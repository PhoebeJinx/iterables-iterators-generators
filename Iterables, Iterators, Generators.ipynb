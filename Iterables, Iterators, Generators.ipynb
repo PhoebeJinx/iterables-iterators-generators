{
 "metadata": {
  "name": "Iterables, Iterators, Generators"
 }, 
 "nbformat": 2, 
 "worksheets": [
  {
   "cells": [
    {
     "cell_type": "code", 
     "collapsed": false, 
     "input": [
      "# Many examples from Ned Bachelder's Python Iteration Talk", 
      "# http://bit.ly/pyiter", 
      "my_list = [17, 23, 47, 51, 101, 173, 999, 1001]", 
      "", 
      "i = 0", 
      "while i < len(my_list):", 
      "    v = my_list[i]", 
      "    print v", 
      "    i += 1"
     ], 
     "language": "python", 
     "outputs": [
      {
       "output_type": "stream", 
       "stream": "stdout", 
       "text": [
        "17", 
        "23", 
        "47", 
        "51", 
        "101", 
        "173", 
        "999", 
        "1001"
       ]
      }
     ], 
     "prompt_number": 1
    }, 
    {
     "cell_type": "code", 
     "collapsed": false, 
     "input": [
      "for i in range(len(my_list)):", 
      "    v = my_list[i]", 
      "    print v"
     ], 
     "language": "python", 
     "outputs": [
      {
       "output_type": "stream", 
       "stream": "stdout", 
       "text": [
        "17", 
        "23", 
        "47", 
        "51", 
        "101", 
        "173", 
        "999", 
        "1001"
       ]
      }
     ], 
     "prompt_number": 2
    }, 
    {
     "cell_type": "code", 
     "collapsed": false, 
     "input": [
      "for v in my_list:", 
      "    print v"
     ], 
     "language": "python", 
     "outputs": [
      {
       "output_type": "stream", 
       "stream": "stdout", 
       "text": [
        "17", 
        "23", 
        "47", 
        "51", 
        "101", 
        "173", 
        "999", 
        "1001"
       ]
      }
     ], 
     "prompt_number": 3
    }, 
    {
     "cell_type": "code", 
     "collapsed": false, 
     "input": [
      "for v in \"Hello\":", 
      "    print v"
     ], 
     "language": "python", 
     "outputs": [
      {
       "output_type": "stream", 
       "stream": "stdout", 
       "text": [
        "H", 
        "e", 
        "l", 
        "l", 
        "o"
       ]
      }
     ], 
     "prompt_number": 4
    }, 
    {
     "cell_type": "code", 
     "collapsed": false, 
     "input": [
      "d = {", 
      "    'a': 1,", 
      "    'b': 2,", 
      "    'c': 3,", 
      "    }", 
      "", 
      "for v in d:", 
      "    print v", 
      "# Note the strange order!"
     ], 
     "language": "python", 
     "outputs": [
      {
       "output_type": "stream", 
       "stream": "stdout", 
       "text": [
        "a", 
        "c", 
        "b"
       ]
      }
     ], 
     "prompt_number": 5
    }, 
    {
     "cell_type": "code", 
     "collapsed": false, 
     "input": [
      "f = open(\"suzuki.txt\")", 
      "for line in f:", 
      "    print \">\", line"
     ], 
     "language": "python", 
     "outputs": [
      {
       "output_type": "stream", 
       "stream": "stdout", 
       "text": [
        "> On education", 
        "", 
        "> \u201cEducation has failed in a very serious way to convey the most important lesson science can teach: skepticism.\u201d", 
        "", 
        "> \u201cAn educational system isn\u2019t worth a great deal if it teaches young people how to make a living but doesn\u2019t teach them how to make a life.\u201d", 
        ""
       ]
      }
     ], 
     "prompt_number": 34
    }, 
    {
     "cell_type": "code", 
     "collapsed": false, 
     "input": [
      "list(d)"
     ], 
     "language": "python", 
     "outputs": [
      {
       "output_type": "pyout", 
       "prompt_number": 9, 
       "text": [
        "['a', 'c', 'b']"
       ]
      }
     ], 
     "prompt_number": 9
    }, 
    {
     "cell_type": "code", 
     "collapsed": false, 
     "input": [
      "list(\"Hello\")"
     ], 
     "language": "python", 
     "outputs": [
      {
       "output_type": "pyout", 
       "prompt_number": 10, 
       "text": [
        "['H', 'e', 'l', 'l', 'o']"
       ]
      }
     ], 
     "prompt_number": 10
    }, 
    {
     "cell_type": "code", 
     "collapsed": false, 
     "input": [
      "ascii = [ord(x) for x in \"Hello\"]", 
      "ascii"
     ], 
     "language": "python", 
     "outputs": [
      {
       "output_type": "pyout", 
       "prompt_number": 18, 
       "text": [
        "[72, 101, 108, 108, 111]"
       ]
      }
     ], 
     "prompt_number": 18
    }, 
    {
     "cell_type": "code", 
     "collapsed": false, 
     "input": [
      "sum(ascii)"
     ], 
     "language": "python", 
     "outputs": [
      {
       "output_type": "pyout", 
       "prompt_number": 27, 
       "text": [
        "500"
       ]
      }
     ], 
     "prompt_number": 27
    }, 
    {
     "cell_type": "code", 
     "collapsed": false, 
     "input": [
      "\"-\".join(d)"
     ], 
     "language": "python", 
     "outputs": [
      {
       "output_type": "pyout", 
       "prompt_number": 29, 
       "text": [
        "'a-c-b'"
       ]
      }
     ], 
     "prompt_number": 29
    }, 
    {
     "cell_type": "code", 
     "collapsed": false, 
     "input": [
      "import re", 
      "suzuki = open(\"suzuki.txt\").read()", 
      "for match in re.finditer(r'\\bs\\w+', suzuki):", 
      "    print match.group(0)"
     ], 
     "language": "python", 
     "outputs": [
      {
       "output_type": "stream", 
       "stream": "stdout", 
       "text": [
        "serious", 
        "science", 
        "skepticism", 
        "system"
       ]
      }
     ], 
     "prompt_number": 33
    }, 
    {
     "cell_type": "code", 
     "collapsed": true, 
     "input": [
      "# see http://bit.ly/pyiter page 10+ for controlling loops, enumerate(), zip() and more"
     ], 
     "language": "python", 
     "outputs": [], 
     "prompt_number": 35
    }, 
    {
     "cell_type": "code", 
     "collapsed": true, 
     "input": [], 
     "language": "python", 
     "outputs": []
    }
   ]
  }
 ]
}