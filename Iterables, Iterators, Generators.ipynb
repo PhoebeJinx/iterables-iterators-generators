{
 "metadata": {
  "name": "Iterables, Iterators, Generators"
 }, 
 "nbformat": 2, 
 "worksheets": [
  {
   "cells": [
    {
     "cell_type": "markdown", 
     "source": [
      "first few examples are from Ned Bachelder's Python Iteration Talk http://bit.ly/pyiter"
     ]
    }, 
    {
     "cell_type": "code", 
     "collapsed": false, 
     "input": [
      "my_list = [17, 23, 47, 51, 101, 173, 999, 1001]", 
      "", 
      "i = 0", 
      "while i < len(my_list):", 
      "    v = my_list[i]", 
      "    print v", 
      "    i += 1"
     ], 
     "language": "python", 
     "outputs": [
      {
       "output_type": "stream", 
       "stream": "stdout", 
       "text": [
        "17", 
        "23", 
        "47", 
        "51", 
        "101", 
        "173", 
        "999", 
        "1001"
       ]
      }
     ], 
     "prompt_number": 1
    }, 
    {
     "cell_type": "code", 
     "collapsed": false, 
     "input": [
      "for i in range(len(my_list)):", 
      "    v = my_list[i]", 
      "    print v"
     ], 
     "language": "python", 
     "outputs": [
      {
       "output_type": "stream", 
       "stream": "stdout", 
       "text": [
        "17", 
        "23", 
        "47", 
        "51", 
        "101", 
        "173", 
        "999", 
        "1001"
       ]
      }
     ], 
     "prompt_number": 2
    }, 
    {
     "cell_type": "code", 
     "collapsed": false, 
     "input": [
      "for v in my_list:", 
      "    print v"
     ], 
     "language": "python", 
     "outputs": [
      {
       "output_type": "stream", 
       "stream": "stdout", 
       "text": [
        "17", 
        "23", 
        "47", 
        "51", 
        "101", 
        "173", 
        "999", 
        "1001"
       ]
      }
     ], 
     "prompt_number": 3
    }, 
    {
     "cell_type": "code", 
     "collapsed": false, 
     "input": [
      "for v in \"Hello\":", 
      "    print v"
     ], 
     "language": "python", 
     "outputs": [
      {
       "output_type": "stream", 
       "stream": "stdout", 
       "text": [
        "H", 
        "e", 
        "l", 
        "l", 
        "o"
       ]
      }
     ], 
     "prompt_number": 4
    }, 
    {
     "cell_type": "code", 
     "collapsed": false, 
     "input": [
      "d = {", 
      "    'a': 1,", 
      "    'b': 2,", 
      "    'c': 3,", 
      "    }", 
      "", 
      "for v in d:", 
      "    print v", 
      "# Note the strange order!"
     ], 
     "language": "python", 
     "outputs": [
      {
       "output_type": "stream", 
       "stream": "stdout", 
       "text": [
        "a", 
        "c", 
        "b"
       ]
      }
     ], 
     "prompt_number": 5
    }, 
    {
     "cell_type": "code", 
     "collapsed": false, 
     "input": [
      "f = open(\"suzuki.txt\")", 
      "for line in f:", 
      "    print \">\", line"
     ], 
     "language": "python", 
     "outputs": [
      {
       "output_type": "stream", 
       "stream": "stdout", 
       "text": [
        "> On education", 
        "", 
        "> \u201cEducation has failed in a very serious way to convey the most important lesson science can teach: skepticism.\u201d", 
        "", 
        "> \u201cAn educational system isn\u2019t worth a great deal if it teaches young people how to make a living but doesn\u2019t teach them how to make a life.\u201d"
       ]
      }
     ], 
     "prompt_number": 34
    }, 
    {
     "cell_type": "code", 
     "collapsed": false, 
     "input": [
      "list(d)"
     ], 
     "language": "python", 
     "outputs": [
      {
       "output_type": "pyout", 
       "prompt_number": 9, 
       "text": [
        "['a', 'c', 'b']"
       ]
      }
     ], 
     "prompt_number": 9
    }, 
    {
     "cell_type": "code", 
     "collapsed": false, 
     "input": [
      "list(\"Hello\")"
     ], 
     "language": "python", 
     "outputs": [
      {
       "output_type": "pyout", 
       "prompt_number": 10, 
       "text": [
        "['H', 'e', 'l', 'l', 'o']"
       ]
      }
     ], 
     "prompt_number": 10
    }, 
    {
     "cell_type": "code", 
     "collapsed": false, 
     "input": [
      "ascii = [ord(x) for x in \"Hello\"]", 
      "ascii"
     ], 
     "language": "python", 
     "outputs": [
      {
       "output_type": "pyout", 
       "prompt_number": 18, 
       "text": [
        "[72, 101, 108, 108, 111]"
       ]
      }
     ], 
     "prompt_number": 18
    }, 
    {
     "cell_type": "code", 
     "collapsed": false, 
     "input": [
      "sum(ascii)"
     ], 
     "language": "python", 
     "outputs": [
      {
       "output_type": "pyout", 
       "prompt_number": 27, 
       "text": [
        "500"
       ]
      }
     ], 
     "prompt_number": 27
    }, 
    {
     "cell_type": "code", 
     "collapsed": false, 
     "input": [
      "\"-\".join(d)"
     ], 
     "language": "python", 
     "outputs": [
      {
       "output_type": "pyout", 
       "prompt_number": 29, 
       "text": [
        "'a-c-b'"
       ]
      }
     ], 
     "prompt_number": 29
    }, 
    {
     "cell_type": "code", 
     "collapsed": false, 
     "input": [
      "import re", 
      "suzuki = open(\"suzuki.txt\").read()", 
      "for match in re.finditer(r'\\bs\\w+', suzuki):", 
      "    print match.group(0)"
     ], 
     "language": "python", 
     "outputs": [
      {
       "output_type": "stream", 
       "stream": "stdout", 
       "text": [
        "serious", 
        "science", 
        "skepticism", 
        "system"
       ]
      }
     ], 
     "prompt_number": 58
    }, 
    {
     "cell_type": "markdown", 
     "source": [
      "![Iterators are Iterables with .next()](https://raw.github.com/wardi/iterables-iterators-generators/master/iterable_iterator.png)"
     ]
    }, 
    {
     "cell_type": "code", 
     "collapsed": true, 
     "input": [
      "class Lucky(object):", 
      "    def __getitem__(self, index):", 
      "        if index > 3:", 
      "            raise IndexError", 
      "        return 7", 
      "s = Lucky()"
     ], 
     "language": "python", 
     "outputs": [], 
     "prompt_number": 8
    }, 
    {
     "cell_type": "code", 
     "collapsed": false, 
     "input": [
      "s[0]"
     ], 
     "language": "python", 
     "outputs": [
      {
       "output_type": "pyout", 
       "prompt_number": 24, 
       "text": [
        "7"
       ]
      }
     ], 
     "prompt_number": 24
    }, 
    {
     "cell_type": "code", 
     "collapsed": false, 
     "input": [
      "s[6]"
     ], 
     "language": "python", 
     "outputs": [
      {
       "ename": "IndexError", 
       "evalue": "", 
       "output_type": "pyerr", 
       "traceback": [
        "\u001b[0;31m---------------------------------------------------------------------------\u001b[0m\n\u001b[0;31mIndexError\u001b[0m                                Traceback (most recent call last)", 
        "\u001b[0;32m/home/ian/git/iterables-iterators-generators/<ipython-input-25-6e68df1be101>\u001b[0m in \u001b[0;36m<module>\u001b[0;34m()\u001b[0m\n\u001b[0;32m----> 1\u001b[0;31m \u001b[0ms\u001b[0m\u001b[0;34m[\u001b[0m\u001b[0;36m6\u001b[0m\u001b[0;34m]\u001b[0m\u001b[0;34m\u001b[0m\u001b[0m\n\u001b[0m", 
        "\u001b[0;32m/home/ian/git/iterables-iterators-generators/<ipython-input-20-9799d9c53f23>\u001b[0m in \u001b[0;36m__getitem__\u001b[0;34m(self, index)\u001b[0m\n\u001b[1;32m      2\u001b[0m     \u001b[0;32mdef\u001b[0m \u001b[0m__getitem__\u001b[0m\u001b[0;34m(\u001b[0m\u001b[0mself\u001b[0m\u001b[0;34m,\u001b[0m \u001b[0mindex\u001b[0m\u001b[0;34m)\u001b[0m\u001b[0;34m:\u001b[0m\u001b[0;34m\u001b[0m\u001b[0m\n\u001b[1;32m      3\u001b[0m         \u001b[0;32mif\u001b[0m \u001b[0mindex\u001b[0m \u001b[0;34m>\u001b[0m \u001b[0;36m3\u001b[0m\u001b[0;34m:\u001b[0m\u001b[0;34m\u001b[0m\u001b[0m\n\u001b[0;32m----> 4\u001b[0;31m             \u001b[0;32mraise\u001b[0m \u001b[0mIndexError\u001b[0m\u001b[0;34m\u001b[0m\u001b[0m\n\u001b[0m\u001b[1;32m      5\u001b[0m         \u001b[0;32mreturn\u001b[0m \u001b[0;36m7\u001b[0m\u001b[0;34m\u001b[0m\u001b[0m\n\u001b[1;32m      6\u001b[0m \u001b[0ms\u001b[0m \u001b[0;34m=\u001b[0m \u001b[0mLucky\u001b[0m\u001b[0;34m(\u001b[0m\u001b[0;34m)\u001b[0m\u001b[0;34m\u001b[0m\u001b[0m\n", 
        "\u001b[0;31mIndexError\u001b[0m: "
       ]
      }
     ], 
     "prompt_number": 25
    }, 
    {
     "cell_type": "code", 
     "collapsed": false, 
     "input": [
      "for number in s:", 
      "    print number"
     ], 
     "language": "python", 
     "outputs": [
      {
       "output_type": "stream", 
       "stream": "stdout", 
       "text": [
        "7", 
        "7", 
        "7", 
        "7"
       ]
      }
     ], 
     "prompt_number": 21
    }, 
    {
     "cell_type": "code", 
     "collapsed": false, 
     "input": [
      "list(s)"
     ], 
     "language": "python", 
     "outputs": [
      {
       "output_type": "pyout", 
       "prompt_number": 22, 
       "text": [
        "[7, 7, 7, 7]"
       ]
      }
     ], 
     "prompt_number": 22
    }, 
    {
     "cell_type": "code", 
     "collapsed": false, 
     "input": [
      "7 in s"
     ], 
     "language": "python", 
     "outputs": [
      {
       "output_type": "pyout", 
       "prompt_number": 23, 
       "text": [
        "True"
       ]
      }
     ], 
     "prompt_number": 23
    }, 
    {
     "cell_type": "code", 
     "collapsed": false, 
     "input": [
      "i = iter(s)", 
      "i"
     ], 
     "language": "python", 
     "outputs": [
      {
       "output_type": "pyout", 
       "prompt_number": 30, 
       "text": [
        "<iterator at 0x2ec37d0>"
       ]
      }
     ], 
     "prompt_number": 30
    }, 
    {
     "cell_type": "code", 
     "collapsed": false, 
     "input": [
      "print i.next()", 
      "print i.next()", 
      "print i.next()", 
      "print i.next()"
     ], 
     "language": "python", 
     "outputs": [
      {
       "output_type": "stream", 
       "stream": "stdout", 
       "text": [
        "7", 
        "7", 
        "7", 
        "7"
       ]
      }
     ], 
     "prompt_number": 31
    }, 
    {
     "cell_type": "code", 
     "collapsed": false, 
     "input": [
      "print i.next() # raises StopIteration, *not* IndexError"
     ], 
     "language": "python", 
     "outputs": [
      {
       "ename": "StopIteration", 
       "evalue": "", 
       "output_type": "pyerr", 
       "traceback": [
        "\u001b[0;31m---------------------------------------------------------------------------\u001b[0m\n\u001b[0;31mStopIteration\u001b[0m                             Traceback (most recent call last)", 
        "\u001b[0;32m/home/ian/git/iterables-iterators-generators/<ipython-input-32-3e4549aee2bd>\u001b[0m in \u001b[0;36m<module>\u001b[0;34m()\u001b[0m\n\u001b[0;32m----> 1\u001b[0;31m \u001b[0;32mprint\u001b[0m \u001b[0mi\u001b[0m\u001b[0;34m.\u001b[0m\u001b[0mnext\u001b[0m\u001b[0;34m(\u001b[0m\u001b[0;34m)\u001b[0m\u001b[0;34m\u001b[0m\u001b[0m\n\u001b[0m", 
        "\u001b[0;31mStopIteration\u001b[0m: "
       ]
      }
     ], 
     "prompt_number": 32
    }, 
    {
     "cell_type": "code", 
     "collapsed": false, 
     "input": [
      "i = iter(s)", 
      "print list(i)", 
      "print list(i)"
     ], 
     "language": "python", 
     "outputs": [
      {
       "output_type": "stream", 
       "stream": "stdout", 
       "text": [
        "[7, 7, 7, 7]", 
        "[]"
       ]
      }
     ], 
     "prompt_number": 9
    }, 
    {
     "cell_type": "code", 
     "collapsed": false, 
     "input": [
      "i = iter(s)", 
      "i is iter(i)"
     ], 
     "language": "python", 
     "outputs": [
      {
       "output_type": "pyout", 
       "prompt_number": 10, 
       "text": [
        "True"
       ]
      }
     ], 
     "prompt_number": 10
    }, 
    {
     "cell_type": "code", 
     "collapsed": false, 
     "input": [
      "q = iter(s)", 
      "i is q"
     ], 
     "language": "python", 
     "outputs": [
      {
       "output_type": "pyout", 
       "prompt_number": 11, 
       "text": [
        "False"
       ]
      }
     ], 
     "prompt_number": 11
    }, 
    {
     "cell_type": "code", 
     "collapsed": false, 
     "input": [
      "iter(xrange(20))"
     ], 
     "language": "python", 
     "outputs": [
      {
       "output_type": "pyout", 
       "prompt_number": 46, 
       "text": [
        "<rangeiterator at 0x2ca8660>"
       ]
      }
     ], 
     "prompt_number": 46
    }, 
    {
     "cell_type": "code", 
     "collapsed": false, 
     "input": [
      "iter({'a': 1, 'b': 2})"
     ], 
     "language": "python", 
     "outputs": [
      {
       "output_type": "pyout", 
       "prompt_number": 47, 
       "text": [
        "<dictionary-keyiterator at 0x2ec9d08>"
       ]
      }
     ], 
     "prompt_number": 47
    }, 
    {
     "cell_type": "code", 
     "collapsed": false, 
     "input": [
      "iter([4, 5, 6])"
     ], 
     "language": "python", 
     "outputs": [
      {
       "output_type": "pyout", 
       "prompt_number": 48, 
       "text": [
        "<listiterator at 0x2cab590>"
       ]
      }
     ], 
     "prompt_number": 48
    }, 
    {
     "cell_type": "code", 
     "collapsed": false, 
     "input": [
      "re.finditer(r'\\bs\\w+', \"some text with swords\")"
     ], 
     "language": "python", 
     "outputs": [
      {
       "output_type": "pyout", 
       "prompt_number": 59, 
       "text": [
        "<callable-iterator at 0x2cadd50>"
       ]
      }
     ], 
     "prompt_number": 59
    }, 
    {
     "cell_type": "code", 
     "collapsed": true, 
     "input": [
      "class Countdown(object):", 
      "    def __iter__(self): # must return an iterator", 
      "        return iter([5, 4, 3, 2, 1, 'launch'])"
     ], 
     "language": "python", 
     "outputs": [], 
     "prompt_number": 81
    }, 
    {
     "cell_type": "code", 
     "collapsed": false, 
     "input": [
      "for n in Countdown():", 
      "    print n"
     ], 
     "language": "python", 
     "outputs": [
      {
       "output_type": "stream", 
       "stream": "stdout", 
       "text": [
        "5", 
        "4", 
        "3", 
        "2", 
        "1", 
        "launch"
       ]
      }
     ], 
     "prompt_number": 82
    }, 
    {
     "cell_type": "code", 
     "collapsed": true, 
     "input": [
      "class CountdownIterator(object):", 
      "    def __init__(self):", 
      "        self._remaining = [5, 4, 3, 2, 1, 'launch']", 
      "        ", 
      "    def __iter__(self):", 
      "        return self", 
      "    ", 
      "    def next(self):", 
      "        if not self._remaining:", 
      "            raise StopIteration", 
      "        return self._remaining.pop(0)"
     ], 
     "language": "python", 
     "outputs": [], 
     "prompt_number": 95
    }, 
    {
     "cell_type": "code", 
     "collapsed": false, 
     "input": [
      "for n in CountdownIterator():", 
      "    print n"
     ], 
     "language": "python", 
     "outputs": [
      {
       "output_type": "stream", 
       "stream": "stdout", 
       "text": [
        "5", 
        "4", 
        "3", 
        "2", 
        "1", 
        "launch"
       ]
      }
     ], 
     "prompt_number": 96
    }, 
    {
     "cell_type": "code", 
     "collapsed": true, 
     "input": [
      "def countdown_generator():", 
      "    yield 5", 
      "    yield 4", 
      "    yield 3", 
      "    yield 2", 
      "    yield 1", 
      "    yield 'launch'"
     ], 
     "language": "python", 
     "outputs": [], 
     "prompt_number": 97
    }, 
    {
     "cell_type": "code", 
     "collapsed": false, 
     "input": [
      "countdown_generator()"
     ], 
     "language": "python", 
     "outputs": [
      {
       "output_type": "pyout", 
       "prompt_number": 98, 
       "text": [
        "<generator object countdown_generator at 0x2ecaaf0>"
       ]
      }
     ], 
     "prompt_number": 98
    }, 
    {
     "cell_type": "code", 
     "collapsed": false, 
     "input": [
      "for n in countdown_generator():", 
      "    print n"
     ], 
     "language": "python", 
     "outputs": [
      {
       "output_type": "stream", 
       "stream": "stdout", 
       "text": [
        "5", 
        "4", 
        "3", 
        "2", 
        "1", 
        "launch"
       ]
      }
     ], 
     "prompt_number": 99
    }, 
    {
     "cell_type": "code", 
     "collapsed": true, 
     "input": [
      "class Countdown(object):", 
      "    def __iter__(self):", 
      "        for n in [5, 4, 3, 2, 1, 'launch']:", 
      "            yield n"
     ], 
     "language": "python", 
     "outputs": [], 
     "prompt_number": 13
    }, 
    {
     "cell_type": "code", 
     "collapsed": false, 
     "input": [
      "for n in Countdown():", 
      "    print n"
     ], 
     "language": "python", 
     "outputs": [
      {
       "output_type": "stream", 
       "stream": "stdout", 
       "text": [
        "5", 
        "4", 
        "3", 
        "2", 
        "1", 
        "launch"
       ]
      }
     ], 
     "prompt_number": 14
    }, 
    {
     "cell_type": "markdown", 
     "source": [
      "### Okay, I understand Iterables and Iterators", 
      "Tell me more about these **generators**!"
     ]
    }, 
    {
     "cell_type": "code", 
     "collapsed": false, 
     "input": [
      "import time", 
      "", 
      "def slow_generator():", 
      "    time.sleep(5)", 
      "    yield 5", 
      "    time.sleep(1)", 
      "    yield 4", 
      "    time.sleep(1)", 
      "    yield 3", 
      "    time.sleep(1)", 
      "    yield 2", 
      "    time.sleep(1)", 
      "    yield 1", 
      "    time.sleep(1)", 
      "", 
      "print \"starting\"", 
      "for n in slow_generator():", 
      "    print n", 
      "print \"done\""
     ], 
     "language": "python", 
     "outputs": [
      {
       "output_type": "stream", 
       "stream": "stdout", 
       "text": [
        "starting", 
        "5"
       ]
      }, 
      {
       "output_type": "stream", 
       "stream": "stdout", 
       "text": [
        "", 
        "4"
       ]
      }, 
      {
       "output_type": "stream", 
       "stream": "stdout", 
       "text": [
        "", 
        "3"
       ]
      }, 
      {
       "output_type": "stream", 
       "stream": "stdout", 
       "text": [
        "", 
        "2"
       ]
      }, 
      {
       "output_type": "stream", 
       "stream": "stdout", 
       "text": [
        "", 
        "1"
       ]
      }, 
      {
       "output_type": "stream", 
       "stream": "stdout", 
       "text": [
        "", 
        "done"
       ]
      }, 
      {
       "output_type": "stream", 
       "stream": "stdout", 
       "text": [
        ""
       ]
      }
     ], 
     "prompt_number": 15
    }, 
    {
     "cell_type": "code", 
     "collapsed": false, 
     "input": [
      "def countdown_generator(fn):", 
      "    yield 5", 
      "    fn(5)", 
      "    yield 1", 
      "    fn(4)", 
      "    yield 1", 
      "    fn(3)", 
      "    yield 1", 
      "    fn(2)", 
      "    yield 1", 
      "    fn(1)", 
      "    yield 1", 
      "", 
      "def show(n):", 
      "    print n", 
      "", 
      "print \"starting\"", 
      "for s in countdown_generator(show):", 
      "    time.sleep(s)", 
      "print \"done\""
     ], 
     "language": "python", 
     "outputs": [
      {
       "output_type": "stream", 
       "stream": "stdout", 
       "text": [
        "starting", 
        "5"
       ]
      }, 
      {
       "output_type": "stream", 
       "stream": "stdout", 
       "text": [
        "", 
        "4"
       ]
      }, 
      {
       "output_type": "stream", 
       "stream": "stdout", 
       "text": [
        "", 
        "3"
       ]
      }, 
      {
       "output_type": "stream", 
       "stream": "stdout", 
       "text": [
        "", 
        "2"
       ]
      }, 
      {
       "output_type": "stream", 
       "stream": "stdout", 
       "text": [
        "", 
        "1"
       ]
      }, 
      {
       "output_type": "stream", 
       "stream": "stdout", 
       "text": [
        "", 
        "done"
       ]
      }, 
      {
       "output_type": "stream", 
       "stream": "stdout", 
       "text": []
      }
     ], 
     "prompt_number": 108
    }, 
    {
     "cell_type": "markdown", 
     "source": [
      "### Generators as coroutines"
     ]
    }, 
    {
     "cell_type": "code", 
     "collapsed": true, 
     "input": [
      "def knock_knock():", 
      "    name = yield \"Who's there?\"", 
      "    yield \"%s who?\" % name", 
      "    yield \"That's not funny at all\""
     ], 
     "language": "python", 
     "outputs": [], 
     "prompt_number": 22
    }, 
    {
     "cell_type": "code", 
     "collapsed": false, 
     "input": [
      "k = knock_knock()", 
      "k.next()"
     ], 
     "language": "python", 
     "outputs": [
      {
       "output_type": "pyout", 
       "prompt_number": 23, 
       "text": [
        "\"Who's there?\""
       ]
      }
     ], 
     "prompt_number": 23
    }, 
    {
     "cell_type": "code", 
     "collapsed": false, 
     "input": [
      "k.send(\"David\")"
     ], 
     "language": "python", 
     "outputs": [
      {
       "output_type": "pyout", 
       "prompt_number": 24, 
       "text": [
        "'David who?'"
       ]
      }
     ], 
     "prompt_number": 24
    }, 
    {
     "cell_type": "code", 
     "collapsed": false, 
     "input": [
      "k.send(\"David the environmentalist\")"
     ], 
     "language": "python", 
     "outputs": [
      {
       "output_type": "pyout", 
       "prompt_number": 25, 
       "text": [
        "\"That's not funny at all\""
       ]
      }
     ], 
     "prompt_number": 25
    }, 
    {
     "cell_type": "code", 
     "collapsed": true, 
     "input": [
      "def running_avg():", 
      "    a = float((yield))", 
      "    count = 1", 
      "    while True:", 
      "        i = yield a", 
      "        count += 1", 
      "        a = (a * (count - 1) + i) / count"
     ], 
     "language": "python", 
     "outputs": [], 
     "prompt_number": 113
    }, 
    {
     "cell_type": "code", 
     "collapsed": false, 
     "input": [
      "r = running_avg()", 
      "r.next()", 
      "r.send(10)"
     ], 
     "language": "python", 
     "outputs": [
      {
       "output_type": "pyout", 
       "prompt_number": 117, 
       "text": [
        "10.0"
       ]
      }
     ], 
     "prompt_number": 117
    }, 
    {
     "cell_type": "code", 
     "collapsed": false, 
     "input": [
      "r.send(5)"
     ], 
     "language": "python", 
     "outputs": [
      {
       "output_type": "pyout", 
       "prompt_number": 118, 
       "text": [
        "7.5"
       ]
      }
     ], 
     "prompt_number": 118
    }, 
    {
     "cell_type": "code", 
     "collapsed": false, 
     "input": [
      "r.send(0)"
     ], 
     "language": "python", 
     "outputs": [
      {
       "output_type": "pyout", 
       "prompt_number": 119, 
       "text": [
        "5.0"
       ]
      }
     ], 
     "prompt_number": 119
    }, 
    {
     "cell_type": "code", 
     "collapsed": false, 
     "input": [
      "r.send(0)"
     ], 
     "language": "python", 
     "outputs": [
      {
       "output_type": "pyout", 
       "prompt_number": 120, 
       "text": [
        "3.75"
       ]
      }
     ], 
     "prompt_number": 120
    }, 
    {
     "cell_type": "code", 
     "collapsed": true, 
     "input": [
      "def rock_paper_scissors():", 
      "    \"\"\"", 
      "    coroutine for playing rock-paper-scissors", 
      "", 
      "    yields: 'invalid key': invalid input was sent", 
      "            ('win', player, choice0, choice1): when a player wins", 
      "            ('tie', None, choice0, choice1): when there is a tie", 
      "            None: when waiting for more input", 
      "", 
      "    accepts to .send(): (player, key):", 
      "        player is 0 or 1, key is a character in 'rps'", 
      "    \"\"\"", 
      "    valid = 'rps'", 
      "    wins = 'rs', 'sp', 'pr'", 
      "    result = None", 
      "", 
      "    while True:", 
      "        chosen = [None, None]", 
      "        while None in chosen:", 
      "            player, play = yield result", 
      "            result = None", 
      "            if play in valid:", 
      "                chosen[player] = play", 
      "            else:", 
      "                result = 'invalid key'", 
      "        ", 
      "        if chosen[0] + chosen[1] in wins:", 
      "            result = ('win', 0) + tuple(chosen)", 
      "        elif chosen[1] + chosen[0] in wins:", 
      "            result = ('win', 1) + tuple(chosen)", 
      "        else:", 
      "            result = ('tie', None) + tuple(chosen)"
     ], 
     "language": "python", 
     "outputs": [], 
     "prompt_number": 97
    }, 
    {
     "cell_type": "code", 
     "collapsed": false, 
     "input": [
      "rps = rock_paper_scissors()", 
      "rps.next()"
     ], 
     "language": "python", 
     "outputs": [], 
     "prompt_number": 108
    }, 
    {
     "cell_type": "code", 
     "collapsed": false, 
     "input": [
      "rps.send((0, 'r'))", 
      "rps.send((1, 'p'))"
     ], 
     "language": "python", 
     "outputs": [
      {
       "output_type": "pyout", 
       "prompt_number": 109, 
       "text": [
        "('win', 1, 'r', 'p')"
       ]
      }
     ], 
     "prompt_number": 109
    }, 
    {
     "cell_type": "code", 
     "collapsed": false, 
     "input": [
      "rps.send((1, 's'))", 
      "rps.send((1, 'p'))", 
      "rps.send((1, 'z'))"
     ], 
     "language": "python", 
     "outputs": [
      {
       "output_type": "pyout", 
       "prompt_number": 110, 
       "text": [
        "'invalid key'"
       ]
      }
     ], 
     "prompt_number": 110
    }, 
    {
     "cell_type": "code", 
     "collapsed": false, 
     "input": [
      "rps.send((0, 's'))"
     ], 
     "language": "python", 
     "outputs": [
      {
       "output_type": "pyout", 
       "prompt_number": 111, 
       "text": [
        "('win', 0, 's', 'p')"
       ]
      }
     ], 
     "prompt_number": 111
    }, 
    {
     "cell_type": "code", 
     "collapsed": false, 
     "input": [
      "rps.send((0, 'r'))", 
      "rps.send((1, 'r'))"
     ], 
     "language": "python", 
     "outputs": [
      {
       "output_type": "pyout", 
       "prompt_number": 35, 
       "text": [
        "('tie', None, 'r', 'r')"
       ]
      }
     ], 
     "prompt_number": 35
    }, 
    {
     "cell_type": "markdown", 
     "source": [
      "### Input from terminal and socket"
     ]
    }, 
    {
     "cell_type": "code", 
     "collapsed": true, 
     "input": [
      "import os", 
      "import termios", 
      "import tty", 
      "", 
      "def cbreak_keys(fd):", 
      "    termios_settings = termios.tcgetattr(fd)", 
      "    tty.setcbreak(fd)", 
      "    try:", 
      "        while True:", 
      "            yield os.read(fd, 1)", 
      "    finally:", 
      "        termios.tcsetattr(fd, termios.TCSADRAIN, termios_settings)"
     ], 
     "language": "python", 
     "outputs": [], 
     "prompt_number": 201
    }, 
    {
     "cell_type": "code", 
     "collapsed": false, 
     "input": [
      "import pty", 
      "import itertools", 
      "", 
      "master, slave = pty.openpty()", 
      "old_settings = termios.tcgetattr(master)", 
      "c = cbreak_keys(master)", 
      "os.write(slave, \"hello\")", 
      "list(itertools.islice(c, 5))"
     ], 
     "language": "python", 
     "outputs": [
      {
       "output_type": "pyout", 
       "prompt_number": 224, 
       "text": [
        "['h', 'e', 'l', 'l', 'o']"
       ]
      }
     ], 
     "prompt_number": 224
    }, 
    {
     "cell_type": "code", 
     "collapsed": false, 
     "input": [
      "old_settings == termios.tcgetattr(master)"
     ], 
     "language": "python", 
     "outputs": [
      {
       "output_type": "pyout", 
       "prompt_number": 225, 
       "text": [
        "False"
       ]
      }
     ], 
     "prompt_number": 225
    }, 
    {
     "cell_type": "code", 
     "collapsed": false, 
     "input": [
      "c.close()", 
      "old_settings == termios.tcgetattr(master)"
     ], 
     "language": "python", 
     "outputs": [
      {
       "output_type": "pyout", 
       "prompt_number": 226, 
       "text": [
        "True"
       ]
      }
     ], 
     "prompt_number": 226
    }, 
    {
     "cell_type": "code", 
     "collapsed": false, 
     "input": [
      "import socket", 
      "", 
      "def socket_read_and_close(sock):", 
      "    \"yields strings from sock and ensures sock.shutdown() is called\"", 
      "    try:", 
      "        while True:", 
      "            b = sock.recv(1024)", 
      "            if not b:", 
      "                break", 
      "            yield b", 
      "    except socket.error:", 
      "        sock = None", 
      "    finally:", 
      "        if sock:", 
      "            sock.shutdown(socket.SHUT_RDWR)", 
      "            sock.close()"
     ], 
     "language": "python", 
     "outputs": [], 
     "prompt_number": 262
    }, 
    {
     "cell_type": "code", 
     "collapsed": false, 
     "input": [
      "import socket", 
      "server = socket.socket()", 
      "server.bind(('', 0))", 
      "server.listen(0)", 
      "host, port = server.getsockname()", 
      "client = socket.socket()", 
      "client.connect(('localhost', port))", 
      "s, remote = server.accept()", 
      "client.send(\"world\")", 
      "socket_read_and_close(s).next()"
     ], 
     "language": "python", 
     "outputs": [
      {
       "output_type": "pyout", 
       "prompt_number": 263, 
       "text": [
        "'world'"
       ]
      }
     ], 
     "prompt_number": 263
    }, 
    {
     "cell_type": "code", 
     "collapsed": false, 
     "input": [
      "socket_read_and_close(s).next() # socket was closed"
     ], 
     "language": "python", 
     "outputs": [
      {
       "ename": "StopIteration", 
       "evalue": "", 
       "output_type": "pyerr", 
       "traceback": [
        "\u001b[0;31m---------------------------------------------------------------------------\u001b[0m\n\u001b[0;31mStopIteration\u001b[0m                             Traceback (most recent call last)", 
        "\u001b[0;32m/home/ian/git/iterables-iterators-generators/<ipython-input-264-012fa39a25b8>\u001b[0m in \u001b[0;36m<module>\u001b[0;34m()\u001b[0m\n\u001b[0;32m----> 1\u001b[0;31m \u001b[0msocket_read_and_close\u001b[0m\u001b[0;34m(\u001b[0m\u001b[0ms\u001b[0m\u001b[0;34m)\u001b[0m\u001b[0;34m.\u001b[0m\u001b[0mnext\u001b[0m\u001b[0;34m(\u001b[0m\u001b[0;34m)\u001b[0m\u001b[0;34m\u001b[0m\u001b[0m\n\u001b[0m", 
        "\u001b[0;31mStopIteration\u001b[0m: "
       ]
      }
     ], 
     "prompt_number": 264
    }, 
    {
     "cell_type": "markdown", 
     "source": [
      "### Telnet filter"
     ]
    }, 
    {
     "cell_type": "markdown", 
     "source": [
      "![Telnet command filter](https://raw.github.com/wardi/iterables-iterators-generators/master/telnet_filter.png)"
     ]
    }, 
    {
     "cell_type": "code", 
     "collapsed": true, 
     "input": [
      "def telnet_init(sock):", 
      "    # negotiate character-by-character, disable echo", 
      "    sock.send('\\xff\\xfd\\x22\\xff\\xfb\\x01')", 
      "        ", 
      "def telnet_filter():", 
      "    \"\"\"", 
      "    coroutine accepting characters and yielding True when the character", 
      "    passed is actual input or False when it is part of a telnet command.", 
      "    \"\"\"", 
      "    actual_input = None", 
      "    while True:", 
      "        key = yield actual_input", 
      "        if key != chr(255):", 
      "            actual_input = True", 
      "            continue", 
      "            ", 
      "        # first 255 byte", 
      "        key = yield False", 
      "        if key == chr(255): # doubled = actual 255", 
      "            actual_input = True", 
      "            continue", 
      "            ", 
      "        actual_input = False", 
      "        if key == chr(250): # subnegotiation, ignore until 240", 
      "            while key != chr(240):", 
      "                key = yield False", 
      "        else:", 
      "            # single extra character to discard", 
      "            yield False"
     ], 
     "language": "python", 
     "outputs": [], 
     "prompt_number": 265
    }, 
    {
     "cell_type": "code", 
     "collapsed": false, 
     "input": [
      "keep = telnet_filter()", 
      "keep.next()", 
      "chatter = '\\xff\\xfd\\x03\\xff\\xfb\"signal\\xff\\xfa\"\\x03\\x01\\x00\\x00\\x03b\\x03\\x04\\x02\\x0f\\x05\\x00\\x00\\x07b\\x1c\\x08\\x02\\x04\\tB\\x1a\\n\\x02\\x7f\\x0b\\x02\\x15\\x0f\\x02\\x11\\x10\\x02\\x13\\x11\\x02\\xff\\xff\\x12\\x02\\xff\\xff\\xff\\xf0\\xff\\xfd\\x01'", 
      "''.join(c for c in chatter if keep.send(c))"
     ], 
     "language": "python", 
     "outputs": [
      {
       "output_type": "pyout", 
       "prompt_number": 267, 
       "text": [
        "'signal'"
       ]
      }
     ], 
     "prompt_number": 267
    }, 
    {
     "cell_type": "markdown", 
     "source": [
      "### \"High-level\" decision making"
     ]
    }, 
    {
     "cell_type": "markdown", 
     "source": [
      "![game_machine states](https://raw.github.com/wardi/iterables-iterators-generators/master/game_machine.png)"
     ]
    }, 
    {
     "cell_type": "code", 
     "collapsed": true, 
     "input": [
      "class Timeout(Exception):", 
      "    pass", 
      "", 
      "class Disconnect(Exception):", 
      "    pass", 
      "", 
      "def game_machine(game_factory, output, best_of=9):", 
      "    \"\"\"", 
      "    coroutine that manages two-player games, best of N", 
      "", 
      "    :param game_factory: a function that returns a game generator object", 
      "    :param output: a function that sends output to one or both players", 
      "    :param best_of: max games to play per guest (an odd number)", 
      "", 
      "    yields: 'waiting' : waiting for a guest (disconnect any existing guest)", 
      "            'play': playing a game, accepting input", 
      "            'disable timeout': disable the guest timout, accepting input", 
      "            'reset timeout': reset and start guest timeout, accepting input", 
      "", 
      "    accepts to .send():", 
      "        ('join', guest_name): Guest guest_name joined", 
      "        ('key', (player_num, key)): Input from player player_num (0 or 1)", 
      "", 
      "    accepts to .throw(): Disconnect: the guest disconnected", 
      "                         Timeout: the guest timout fired", 
      "    \"\"\"", 
      "    while True:", 
      "        event, value = yield 'waiting'", 
      "        if event != 'join':", 
      "            continue", 
      "        game = game_factory()", 
      "        game.next()", 
      "        wins = [0, 0]", 
      "        output(\"Player connected: {0}\".format(value), player=0)", 
      "        output(\"Welcome to the game\", player=1)", 
      "", 
      "        try:", 
      "            response = 'reset timeout'", 
      "            while True:", 
      "                event, value = yield response", 
      "                response = 'play'", 
      "                if event != 'key':", 
      "                    continue", 
      "                    ", 
      "                player, key = value", 
      "                result = game.send((player, key))", 
      "                if result == 'invalid key':", 
      "                    output(\"Invalid key\", player=player)", 
      "                    continue", 
      "                elif player == 1:", 
      "                    response = 'disable timeout'", 
      "                if not result:", 
      "                    continue", 
      "                    ", 
      "                outcome, player, play0, play1 = result", 
      "                output(\"Player 0: {0}, Player 1: {1}\".format(play0, play1))", 
      "                if outcome == 'win':", 
      "                    wins[player] += 1", 
      "                    output(\"Player {0} wins!\".format(player))", 
      "                    output(\"Wins: {0} - {1}\".format(*wins))", 
      "                    ", 
      "                if any(count > best_of / 2 for count in wins):", 
      "                    output(\"Thank you for playing!\")", 
      "                    break", 
      "                response = 'reset timeout'", 
      "                ", 
      "        except Disconnect:", 
      "            output(\"Opponent disconnected.\", player=0)", 
      "", 
      "        except Timeout:", 
      "            output(\"Timed out. Good-bye\")"
     ], 
     "language": "python", 
     "outputs": [], 
     "prompt_number": 268
    }, 
    {
     "cell_type": "code", 
     "collapsed": false, 
     "input": [
      "def say(t, player='all'):", 
      "    print player, \">\", t", 
      "", 
      "g = game_machine(rock_paper_scissors, say)", 
      "g.next()"
     ], 
     "language": "python", 
     "outputs": [
      {
       "output_type": "pyout", 
       "prompt_number": 269, 
       "text": [
        "'waiting'"
       ]
      }
     ], 
     "prompt_number": 269
    }, 
    {
     "cell_type": "code", 
     "collapsed": false, 
     "input": [
      "g.send(('join', 'Ernie'))"
     ], 
     "language": "python", 
     "outputs": [
      {
       "output_type": "stream", 
       "stream": "stdout", 
       "text": [
        "0 > Player connected: Ernie", 
        "1 > Welcome to the game"
       ]
      }, 
      {
       "output_type": "pyout", 
       "prompt_number": 270, 
       "text": [
        "'reset timeout'"
       ]
      }
     ], 
     "prompt_number": 270
    }, 
    {
     "cell_type": "code", 
     "collapsed": false, 
     "input": [
      "g.send(('key', (0, 'r')))"
     ], 
     "language": "python", 
     "outputs": [
      {
       "output_type": "pyout", 
       "prompt_number": 271, 
       "text": [
        "'play'"
       ]
      }
     ], 
     "prompt_number": 271
    }, 
    {
     "cell_type": "code", 
     "collapsed": false, 
     "input": [
      "g.send(('key', (1, 's')))"
     ], 
     "language": "python", 
     "outputs": [
      {
       "output_type": "stream", 
       "stream": "stdout", 
       "text": [
        "all > Player 0: r, Player 1: s", 
        "all > Player 0 wins!", 
        "all > Wins: 1 - 0"
       ]
      }, 
      {
       "output_type": "pyout", 
       "prompt_number": 272, 
       "text": [
        "'reset timeout'"
       ]
      }
     ], 
     "prompt_number": 272
    }, 
    {
     "cell_type": "code", 
     "collapsed": false, 
     "input": [
      "g.throw(Disconnect())"
     ], 
     "language": "python", 
     "outputs": [
      {
       "output_type": "stream", 
       "stream": "stdout", 
       "text": [
        "0 > Opponent disconnected."
       ]
      }, 
      {
       "output_type": "pyout", 
       "prompt_number": 273, 
       "text": [
        "'waiting'"
       ]
      }
     ], 
     "prompt_number": 273
    }, 
    {
     "cell_type": "code", 
     "collapsed": false, 
     "input": [
      "g.send(('join', 'Bert'))"
     ], 
     "language": "python", 
     "outputs": [
      {
       "output_type": "stream", 
       "stream": "stdout", 
       "text": [
        "0 > Player connected: Bert", 
        "1 > Welcome to the game"
       ]
      }, 
      {
       "output_type": "pyout", 
       "prompt_number": 274, 
       "text": [
        "'reset timeout'"
       ]
      }
     ], 
     "prompt_number": 274
    }, 
    {
     "cell_type": "code", 
     "collapsed": false, 
     "input": [
      "g.send(('key', (1, 'x')))"
     ], 
     "language": "python", 
     "outputs": [
      {
       "output_type": "stream", 
       "stream": "stdout", 
       "text": [
        "1 > Invalid key"
       ]
      }, 
      {
       "output_type": "pyout", 
       "prompt_number": 275, 
       "text": [
        "'play'"
       ]
      }
     ], 
     "prompt_number": 275
    }, 
    {
     "cell_type": "code", 
     "collapsed": false, 
     "input": [
      "g.send(('key', (1, 'p')))"
     ], 
     "language": "python", 
     "outputs": [
      {
       "output_type": "pyout", 
       "prompt_number": 276, 
       "text": [
        "'disable timeout'"
       ]
      }
     ], 
     "prompt_number": 276
    }, 
    {
     "cell_type": "code", 
     "collapsed": false, 
     "input": [
      "g.send(('key', (0, 'r')))"
     ], 
     "language": "python", 
     "outputs": [
      {
       "output_type": "stream", 
       "stream": "stdout", 
       "text": [
        "all > Player 0: r, Player 1: p", 
        "all > Player 1 wins!", 
        "all > Wins: 0 - 1"
       ]
      }, 
      {
       "output_type": "pyout", 
       "prompt_number": 277, 
       "text": [
        "'reset timeout'"
       ]
      }
     ], 
     "prompt_number": 277
    }, 
    {
     "cell_type": "code", 
     "collapsed": false, 
     "input": [
      "for player, key in [(0, 's'), (1, 'p')] * 5:", 
      "    r = g.send(('key', (player, key)))", 
      "r"
     ], 
     "language": "python", 
     "outputs": [
      {
       "output_type": "stream", 
       "stream": "stdout", 
       "text": [
        "all > Player 0: s, Player 1: p", 
        "all > Player 0 wins!", 
        "all > Wins: 1 - 1", 
        "all > Player 0: s, Player 1: p", 
        "all > Player 0 wins!", 
        "all > Wins: 2 - 1", 
        "all > Player 0: s, Player 1: p", 
        "all > Player 0 wins!", 
        "all > Wins: 3 - 1", 
        "all > Player 0: s, Player 1: p", 
        "all > Player 0 wins!", 
        "all > Wins: 4 - 1", 
        "all > Player 0: s, Player 1: p", 
        "all > Player 0 wins!", 
        "all > Wins: 5 - 1", 
        "all > Thank you for playing!"
       ]
      }, 
      {
       "output_type": "pyout", 
       "prompt_number": 278, 
       "text": [
        "'waiting'"
       ]
      }
     ], 
     "prompt_number": 278
    }, 
    {
     "cell_type": "code", 
     "collapsed": true, 
     "input": [], 
     "language": "python", 
     "outputs": [], 
     "prompt_number": 278
    }, 
    {
     "cell_type": "markdown", 
     "source": [
      "# Summary", 
      "## Iterables", 
      "- may create an iterator with iter(x)", 
      "", 
      "## Iterators", 
      "- are iterables, where iter(x) typically returns x", 
      "- maintain some kind of \"position\" state", 
      "- implement .next(), which raises StopIteration after the last element", 
      "", 
      "## Generators", 
      "- are iterators", 
      "- come with .next(), .send(value), .close() and .throw(exception) methods for free!", 
      "- \"position\" state includes local variables and program counter", 
      "- [PEP 380](http://www.python.org/dev/peps/pep-0380/): delegation with \"yield from\" available in Python 3.3+", 
      "- CAUTION: StopIteration exceptions will cause trouble: use next(x, default) builtin", 
      "", 
      "## The Future", 
      "- [PEP 3156](http://www.python.org/dev/peps/pep-3156/):", 
      "  Unified Asynchronous IO Support (Twisted, Tornado, ZeroMQ)", 
      "  - [Coroutines](http://www.python.org/dev/peps/pep-3156/#coroutines-and-the-scheduler)"
     ]
    }
   ]
  }
 ]
}