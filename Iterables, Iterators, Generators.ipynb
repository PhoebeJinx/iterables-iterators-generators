{
 "metadata": {
  "name": "Iterables, Iterators, Generators"
 }, 
 "nbformat": 2, 
 "worksheets": [
  {
   "cells": [
    {
     "cell_type": "markdown", 
     "source": [
      "first few examples are from Ned Bachelder's Python Iteration Talk http://bit.ly/pyiter"
     ]
    }, 
    {
     "cell_type": "code", 
     "collapsed": false, 
     "input": [
      "my_list = [17, 23, 47, 51, 101, 173, 999, 1001]", 
      "", 
      "i = 0", 
      "while i < len(my_list):", 
      "    v = my_list[i]", 
      "    print v", 
      "    i += 1"
     ], 
     "language": "python", 
     "outputs": [
      {
       "output_type": "stream", 
       "stream": "stdout", 
       "text": [
        "17", 
        "23", 
        "47", 
        "51", 
        "101", 
        "173", 
        "999", 
        "1001"
       ]
      }
     ], 
     "prompt_number": 1
    }, 
    {
     "cell_type": "code", 
     "collapsed": false, 
     "input": [
      "for i in range(len(my_list)):", 
      "    v = my_list[i]", 
      "    print v"
     ], 
     "language": "python", 
     "outputs": [
      {
       "output_type": "stream", 
       "stream": "stdout", 
       "text": [
        "17", 
        "23", 
        "47", 
        "51", 
        "101", 
        "173", 
        "999", 
        "1001"
       ]
      }
     ], 
     "prompt_number": 2
    }, 
    {
     "cell_type": "code", 
     "collapsed": false, 
     "input": [
      "for v in my_list:", 
      "    print v"
     ], 
     "language": "python", 
     "outputs": [
      {
       "output_type": "stream", 
       "stream": "stdout", 
       "text": [
        "17", 
        "23", 
        "47", 
        "51", 
        "101", 
        "173", 
        "999", 
        "1001"
       ]
      }
     ], 
     "prompt_number": 3
    }, 
    {
     "cell_type": "code", 
     "collapsed": false, 
     "input": [
      "for v in \"Hello\":", 
      "    print v"
     ], 
     "language": "python", 
     "outputs": [
      {
       "output_type": "stream", 
       "stream": "stdout", 
       "text": [
        "H", 
        "e", 
        "l", 
        "l", 
        "o"
       ]
      }
     ], 
     "prompt_number": 4
    }, 
    {
     "cell_type": "code", 
     "collapsed": false, 
     "input": [
      "d = {", 
      "    'a': 1,", 
      "    'b': 2,", 
      "    'c': 3,", 
      "    }", 
      "", 
      "for v in d:", 
      "    print v", 
      "# Note the strange order!"
     ], 
     "language": "python", 
     "outputs": [
      {
       "output_type": "stream", 
       "stream": "stdout", 
       "text": [
        "a", 
        "c", 
        "b"
       ]
      }
     ], 
     "prompt_number": 5
    }, 
    {
     "cell_type": "code", 
     "collapsed": false, 
     "input": [
      "f = open(\"suzuki.txt\")", 
      "for line in f:", 
      "    print \">\", line"
     ], 
     "language": "python", 
     "outputs": [
      {
       "output_type": "stream", 
       "stream": "stdout", 
       "text": [
        "> On education", 
        "", 
        "> \u201cEducation has failed in a very serious way to convey the most important lesson science can teach: skepticism.\u201d", 
        "", 
        "> \u201cAn educational system isn\u2019t worth a great deal if it teaches young people how to make a living but doesn\u2019t teach them how to make a life.\u201d"
       ]
      }
     ], 
     "prompt_number": 34
    }, 
    {
     "cell_type": "code", 
     "collapsed": false, 
     "input": [
      "list(d)"
     ], 
     "language": "python", 
     "outputs": [
      {
       "output_type": "pyout", 
       "prompt_number": 9, 
       "text": [
        "['a', 'c', 'b']"
       ]
      }
     ], 
     "prompt_number": 9
    }, 
    {
     "cell_type": "code", 
     "collapsed": false, 
     "input": [
      "list(\"Hello\")"
     ], 
     "language": "python", 
     "outputs": [
      {
       "output_type": "pyout", 
       "prompt_number": 10, 
       "text": [
        "['H', 'e', 'l', 'l', 'o']"
       ]
      }
     ], 
     "prompt_number": 10
    }, 
    {
     "cell_type": "code", 
     "collapsed": false, 
     "input": [
      "ascii = [ord(x) for x in \"Hello\"]", 
      "ascii"
     ], 
     "language": "python", 
     "outputs": [
      {
       "output_type": "pyout", 
       "prompt_number": 18, 
       "text": [
        "[72, 101, 108, 108, 111]"
       ]
      }
     ], 
     "prompt_number": 18
    }, 
    {
     "cell_type": "code", 
     "collapsed": false, 
     "input": [
      "sum(ascii)"
     ], 
     "language": "python", 
     "outputs": [
      {
       "output_type": "pyout", 
       "prompt_number": 27, 
       "text": [
        "500"
       ]
      }
     ], 
     "prompt_number": 27
    }, 
    {
     "cell_type": "code", 
     "collapsed": false, 
     "input": [
      "\"-\".join(d)"
     ], 
     "language": "python", 
     "outputs": [
      {
       "output_type": "pyout", 
       "prompt_number": 29, 
       "text": [
        "'a-c-b'"
       ]
      }
     ], 
     "prompt_number": 29
    }, 
    {
     "cell_type": "code", 
     "collapsed": false, 
     "input": [
      "import re", 
      "suzuki = open(\"suzuki.txt\").read()", 
      "for match in re.finditer(r'\\bs\\w+', suzuki):", 
      "    print match.group(0)"
     ], 
     "language": "python", 
     "outputs": [
      {
       "output_type": "stream", 
       "stream": "stdout", 
       "text": [
        "serious", 
        "science", 
        "skepticism", 
        "system"
       ]
      }
     ], 
     "prompt_number": 58
    }, 
    {
     "cell_type": "markdown", 
     "source": [
      "![Iterators are Iterables with .next()](https://raw.github.com/wardi/iterables-iterators-generators/master/iterable_iterator.png)"
     ]
    }, 
    {
     "cell_type": "code", 
     "collapsed": true, 
     "input": [
      "class Lucky(object):", 
      "    def __getitem__(self, index):", 
      "        if index > 3:", 
      "            raise IndexError", 
      "        return 7", 
      "s = Lucky()"
     ], 
     "language": "python", 
     "outputs": [], 
     "prompt_number": 8
    }, 
    {
     "cell_type": "code", 
     "collapsed": false, 
     "input": [
      "s[0]"
     ], 
     "language": "python", 
     "outputs": [
      {
       "output_type": "pyout", 
       "prompt_number": 24, 
       "text": [
        "7"
       ]
      }
     ], 
     "prompt_number": 24
    }, 
    {
     "cell_type": "code", 
     "collapsed": false, 
     "input": [
      "s[6]"
     ], 
     "language": "python", 
     "outputs": [
      {
       "ename": "IndexError", 
       "evalue": "", 
       "output_type": "pyerr", 
       "traceback": [
        "\u001b[0;31m---------------------------------------------------------------------------\u001b[0m\n\u001b[0;31mIndexError\u001b[0m                                Traceback (most recent call last)", 
        "\u001b[0;32m/home/ian/git/iterables-iterators-generators/<ipython-input-25-6e68df1be101>\u001b[0m in \u001b[0;36m<module>\u001b[0;34m()\u001b[0m\n\u001b[0;32m----> 1\u001b[0;31m \u001b[0ms\u001b[0m\u001b[0;34m[\u001b[0m\u001b[0;36m6\u001b[0m\u001b[0;34m]\u001b[0m\u001b[0;34m\u001b[0m\u001b[0m\n\u001b[0m", 
        "\u001b[0;32m/home/ian/git/iterables-iterators-generators/<ipython-input-20-9799d9c53f23>\u001b[0m in \u001b[0;36m__getitem__\u001b[0;34m(self, index)\u001b[0m\n\u001b[1;32m      2\u001b[0m     \u001b[0;32mdef\u001b[0m \u001b[0m__getitem__\u001b[0m\u001b[0;34m(\u001b[0m\u001b[0mself\u001b[0m\u001b[0;34m,\u001b[0m \u001b[0mindex\u001b[0m\u001b[0;34m)\u001b[0m\u001b[0;34m:\u001b[0m\u001b[0;34m\u001b[0m\u001b[0m\n\u001b[1;32m      3\u001b[0m         \u001b[0;32mif\u001b[0m \u001b[0mindex\u001b[0m \u001b[0;34m>\u001b[0m \u001b[0;36m3\u001b[0m\u001b[0;34m:\u001b[0m\u001b[0;34m\u001b[0m\u001b[0m\n\u001b[0;32m----> 4\u001b[0;31m             \u001b[0;32mraise\u001b[0m \u001b[0mIndexError\u001b[0m\u001b[0;34m\u001b[0m\u001b[0m\n\u001b[0m\u001b[1;32m      5\u001b[0m         \u001b[0;32mreturn\u001b[0m \u001b[0;36m7\u001b[0m\u001b[0;34m\u001b[0m\u001b[0m\n\u001b[1;32m      6\u001b[0m \u001b[0ms\u001b[0m \u001b[0;34m=\u001b[0m \u001b[0mLucky\u001b[0m\u001b[0;34m(\u001b[0m\u001b[0;34m)\u001b[0m\u001b[0;34m\u001b[0m\u001b[0m\n", 
        "\u001b[0;31mIndexError\u001b[0m: "
       ]
      }
     ], 
     "prompt_number": 25
    }, 
    {
     "cell_type": "code", 
     "collapsed": false, 
     "input": [
      "for number in s:", 
      "    print number"
     ], 
     "language": "python", 
     "outputs": [
      {
       "output_type": "stream", 
       "stream": "stdout", 
       "text": [
        "7", 
        "7", 
        "7", 
        "7"
       ]
      }
     ], 
     "prompt_number": 21
    }, 
    {
     "cell_type": "code", 
     "collapsed": false, 
     "input": [
      "list(s)"
     ], 
     "language": "python", 
     "outputs": [
      {
       "output_type": "pyout", 
       "prompt_number": 22, 
       "text": [
        "[7, 7, 7, 7]"
       ]
      }
     ], 
     "prompt_number": 22
    }, 
    {
     "cell_type": "code", 
     "collapsed": false, 
     "input": [
      "7 in s"
     ], 
     "language": "python", 
     "outputs": [
      {
       "output_type": "pyout", 
       "prompt_number": 23, 
       "text": [
        "True"
       ]
      }
     ], 
     "prompt_number": 23
    }, 
    {
     "cell_type": "code", 
     "collapsed": false, 
     "input": [
      "i = iter(s)", 
      "i"
     ], 
     "language": "python", 
     "outputs": [
      {
       "output_type": "pyout", 
       "prompt_number": 30, 
       "text": [
        "<iterator at 0x2ec37d0>"
       ]
      }
     ], 
     "prompt_number": 30
    }, 
    {
     "cell_type": "code", 
     "collapsed": false, 
     "input": [
      "print i.next()", 
      "print i.next()", 
      "print i.next()", 
      "print i.next()"
     ], 
     "language": "python", 
     "outputs": [
      {
       "output_type": "stream", 
       "stream": "stdout", 
       "text": [
        "7", 
        "7", 
        "7", 
        "7"
       ]
      }
     ], 
     "prompt_number": 31
    }, 
    {
     "cell_type": "code", 
     "collapsed": false, 
     "input": [
      "print i.next() # raises StopIteration, *not* IndexError"
     ], 
     "language": "python", 
     "outputs": [
      {
       "ename": "StopIteration", 
       "evalue": "", 
       "output_type": "pyerr", 
       "traceback": [
        "\u001b[0;31m---------------------------------------------------------------------------\u001b[0m\n\u001b[0;31mStopIteration\u001b[0m                             Traceback (most recent call last)", 
        "\u001b[0;32m/home/ian/git/iterables-iterators-generators/<ipython-input-32-3e4549aee2bd>\u001b[0m in \u001b[0;36m<module>\u001b[0;34m()\u001b[0m\n\u001b[0;32m----> 1\u001b[0;31m \u001b[0;32mprint\u001b[0m \u001b[0mi\u001b[0m\u001b[0;34m.\u001b[0m\u001b[0mnext\u001b[0m\u001b[0;34m(\u001b[0m\u001b[0;34m)\u001b[0m\u001b[0;34m\u001b[0m\u001b[0m\n\u001b[0m", 
        "\u001b[0;31mStopIteration\u001b[0m: "
       ]
      }
     ], 
     "prompt_number": 32
    }, 
    {
     "cell_type": "code", 
     "collapsed": false, 
     "input": [
      "i = iter(s)", 
      "print list(i)", 
      "print list(i)"
     ], 
     "language": "python", 
     "outputs": [
      {
       "output_type": "stream", 
       "stream": "stdout", 
       "text": [
        "[7, 7, 7, 7]", 
        "[]"
       ]
      }
     ], 
     "prompt_number": 9
    }, 
    {
     "cell_type": "code", 
     "collapsed": false, 
     "input": [
      "i = iter(s)", 
      "i is iter(i)"
     ], 
     "language": "python", 
     "outputs": [
      {
       "output_type": "pyout", 
       "prompt_number": 10, 
       "text": [
        "True"
       ]
      }
     ], 
     "prompt_number": 10
    }, 
    {
     "cell_type": "code", 
     "collapsed": false, 
     "input": [
      "q = iter(s)", 
      "i is q"
     ], 
     "language": "python", 
     "outputs": [
      {
       "output_type": "pyout", 
       "prompt_number": 11, 
       "text": [
        "False"
       ]
      }
     ], 
     "prompt_number": 11
    }, 
    {
     "cell_type": "code", 
     "collapsed": false, 
     "input": [
      "iter(xrange(20))"
     ], 
     "language": "python", 
     "outputs": [
      {
       "output_type": "pyout", 
       "prompt_number": 46, 
       "text": [
        "<rangeiterator at 0x2ca8660>"
       ]
      }
     ], 
     "prompt_number": 46
    }, 
    {
     "cell_type": "code", 
     "collapsed": false, 
     "input": [
      "iter({'a': 1, 'b': 2})"
     ], 
     "language": "python", 
     "outputs": [
      {
       "output_type": "pyout", 
       "prompt_number": 47, 
       "text": [
        "<dictionary-keyiterator at 0x2ec9d08>"
       ]
      }
     ], 
     "prompt_number": 47
    }, 
    {
     "cell_type": "code", 
     "collapsed": false, 
     "input": [
      "iter([4, 5, 6])"
     ], 
     "language": "python", 
     "outputs": [
      {
       "output_type": "pyout", 
       "prompt_number": 48, 
       "text": [
        "<listiterator at 0x2cab590>"
       ]
      }
     ], 
     "prompt_number": 48
    }, 
    {
     "cell_type": "code", 
     "collapsed": false, 
     "input": [
      "re.finditer(r'\\bs\\w+', \"some text with swords\")"
     ], 
     "language": "python", 
     "outputs": [
      {
       "output_type": "pyout", 
       "prompt_number": 59, 
       "text": [
        "<callable-iterator at 0x2cadd50>"
       ]
      }
     ], 
     "prompt_number": 59
    }, 
    {
     "cell_type": "code", 
     "collapsed": true, 
     "input": [
      "class Countdown(object):", 
      "    def __iter__(self): # must return an iterator", 
      "        return iter([5, 4, 3, 2, 1, 'launch'])"
     ], 
     "language": "python", 
     "outputs": [], 
     "prompt_number": 81
    }, 
    {
     "cell_type": "code", 
     "collapsed": false, 
     "input": [
      "for n in Countdown():", 
      "    print n"
     ], 
     "language": "python", 
     "outputs": [
      {
       "output_type": "stream", 
       "stream": "stdout", 
       "text": [
        "5", 
        "4", 
        "3", 
        "2", 
        "1", 
        "launch"
       ]
      }
     ], 
     "prompt_number": 82
    }, 
    {
     "cell_type": "code", 
     "collapsed": true, 
     "input": [
      "class CountdownIterator(object):", 
      "    def __init__(self):", 
      "        self._remaining = [5, 4, 3, 2, 1, 'launch']", 
      "        ", 
      "    def __iter__(self):", 
      "        return self", 
      "    ", 
      "    def next(self):", 
      "        if not self._remaining:", 
      "            raise StopIteration", 
      "        return self._remaining.pop(0)"
     ], 
     "language": "python", 
     "outputs": [], 
     "prompt_number": 95
    }, 
    {
     "cell_type": "code", 
     "collapsed": false, 
     "input": [
      "for n in CountdownIterator():", 
      "    print n"
     ], 
     "language": "python", 
     "outputs": [
      {
       "output_type": "stream", 
       "stream": "stdout", 
       "text": [
        "5", 
        "4", 
        "3", 
        "2", 
        "1", 
        "launch"
       ]
      }
     ], 
     "prompt_number": 96
    }, 
    {
     "cell_type": "code", 
     "collapsed": true, 
     "input": [
      "def countdown_generator():", 
      "    yield 5", 
      "    yield 4", 
      "    yield 3", 
      "    yield 2", 
      "    yield 1", 
      "    yield 'launch'"
     ], 
     "language": "python", 
     "outputs": [], 
     "prompt_number": 97
    }, 
    {
     "cell_type": "code", 
     "collapsed": false, 
     "input": [
      "countdown_generator()"
     ], 
     "language": "python", 
     "outputs": [
      {
       "output_type": "pyout", 
       "prompt_number": 98, 
       "text": [
        "<generator object countdown_generator at 0x2ecaaf0>"
       ]
      }
     ], 
     "prompt_number": 98
    }, 
    {
     "cell_type": "code", 
     "collapsed": false, 
     "input": [
      "for n in countdown_generator():", 
      "    print n"
     ], 
     "language": "python", 
     "outputs": [
      {
       "output_type": "stream", 
       "stream": "stdout", 
       "text": [
        "5", 
        "4", 
        "3", 
        "2", 
        "1", 
        "launch"
       ]
      }
     ], 
     "prompt_number": 99
    }, 
    {
     "cell_type": "code", 
     "collapsed": true, 
     "input": [
      "class Countdown(object):", 
      "    def __iter__(self):", 
      "        for n in [5, 4, 3, 2, 1, 'launch']:", 
      "            yield n"
     ], 
     "language": "python", 
     "outputs": [], 
     "prompt_number": 13
    }, 
    {
     "cell_type": "code", 
     "collapsed": false, 
     "input": [
      "for n in Countdown():", 
      "    print n"
     ], 
     "language": "python", 
     "outputs": [
      {
       "output_type": "stream", 
       "stream": "stdout", 
       "text": [
        "5", 
        "4", 
        "3", 
        "2", 
        "1", 
        "launch"
       ]
      }
     ], 
     "prompt_number": 14
    }, 
    {
     "cell_type": "markdown", 
     "source": [
      "### Okay, I understand Iterables and Iterators", 
      "Tell me more about these **generators**!"
     ]
    }, 
    {
     "cell_type": "code", 
     "collapsed": false, 
     "input": [
      "import time", 
      "", 
      "def slow_generator():", 
      "    time.sleep(5)", 
      "    yield 5", 
      "    time.sleep(1)", 
      "    yield 4", 
      "    time.sleep(1)", 
      "    yield 3", 
      "    time.sleep(1)", 
      "    yield 2", 
      "    time.sleep(1)", 
      "    yield 1", 
      "    time.sleep(1)", 
      "", 
      "print \"starting\"", 
      "for n in slow_generator():", 
      "    print n", 
      "print \"done\""
     ], 
     "language": "python", 
     "outputs": [
      {
       "output_type": "stream", 
       "stream": "stdout", 
       "text": [
        "starting", 
        "5"
       ]
      }, 
      {
       "output_type": "stream", 
       "stream": "stdout", 
       "text": [
        "", 
        "4"
       ]
      }, 
      {
       "output_type": "stream", 
       "stream": "stdout", 
       "text": [
        "", 
        "3"
       ]
      }, 
      {
       "output_type": "stream", 
       "stream": "stdout", 
       "text": [
        "", 
        "2"
       ]
      }, 
      {
       "output_type": "stream", 
       "stream": "stdout", 
       "text": [
        "", 
        "1"
       ]
      }, 
      {
       "output_type": "stream", 
       "stream": "stdout", 
       "text": [
        "", 
        "done"
       ]
      }, 
      {
       "output_type": "stream", 
       "stream": "stdout", 
       "text": [
        ""
       ]
      }
     ], 
     "prompt_number": 15
    }, 
    {
     "cell_type": "code", 
     "collapsed": false, 
     "input": [
      "def countdown_generator(fn):", 
      "    yield 5", 
      "    fn(5)", 
      "    yield 1", 
      "    fn(4)", 
      "    yield 1", 
      "    fn(3)", 
      "    yield 1", 
      "    fn(2)", 
      "    yield 1", 
      "    fn(1)", 
      "    yield 1", 
      "", 
      "def show(n):", 
      "    print n", 
      "", 
      "print \"starting\"", 
      "for s in countdown_generator(show):", 
      "    time.sleep(s)", 
      "print \"done\""
     ], 
     "language": "python", 
     "outputs": [
      {
       "output_type": "stream", 
       "stream": "stdout", 
       "text": [
        "starting", 
        "5"
       ]
      }, 
      {
       "output_type": "stream", 
       "stream": "stdout", 
       "text": [
        "", 
        "4"
       ]
      }, 
      {
       "output_type": "stream", 
       "stream": "stdout", 
       "text": [
        "", 
        "3"
       ]
      }, 
      {
       "output_type": "stream", 
       "stream": "stdout", 
       "text": [
        "", 
        "2"
       ]
      }, 
      {
       "output_type": "stream", 
       "stream": "stdout", 
       "text": [
        "", 
        "1"
       ]
      }, 
      {
       "output_type": "stream", 
       "stream": "stdout", 
       "text": [
        "", 
        "done"
       ]
      }, 
      {
       "output_type": "stream", 
       "stream": "stdout", 
       "text": []
      }
     ], 
     "prompt_number": 108
    }, 
    {
     "cell_type": "markdown", 
     "source": [
      "### Generators as coroutines"
     ]
    }, 
    {
     "cell_type": "code", 
     "collapsed": true, 
     "input": [
      "def knock_knock():", 
      "    name = yield \"Who's there?\"", 
      "    yield \"%s who?\" % name", 
      "    yield \"That's not funny at all\""
     ], 
     "language": "python", 
     "outputs": [], 
     "prompt_number": 22
    }, 
    {
     "cell_type": "code", 
     "collapsed": false, 
     "input": [
      "k = knock_knock()", 
      "k.next()"
     ], 
     "language": "python", 
     "outputs": [
      {
       "output_type": "pyout", 
       "prompt_number": 23, 
       "text": [
        "\"Who's there?\""
       ]
      }
     ], 
     "prompt_number": 23
    }, 
    {
     "cell_type": "code", 
     "collapsed": false, 
     "input": [
      "k.send(\"David\")"
     ], 
     "language": "python", 
     "outputs": [
      {
       "output_type": "pyout", 
       "prompt_number": 24, 
       "text": [
        "'David who?'"
       ]
      }
     ], 
     "prompt_number": 24
    }, 
    {
     "cell_type": "code", 
     "collapsed": false, 
     "input": [
      "k.send(\"David the environmentalist\")"
     ], 
     "language": "python", 
     "outputs": [
      {
       "output_type": "pyout", 
       "prompt_number": 25, 
       "text": [
        "\"That's not funny at all\""
       ]
      }
     ], 
     "prompt_number": 25
    }, 
    {
     "cell_type": "code", 
     "collapsed": true, 
     "input": [
      "def running_avg():", 
      "    a = float((yield))", 
      "    count = 1", 
      "    while True:", 
      "        i = yield a", 
      "        count += 1", 
      "        a = (a * (count - 1) + i) / count"
     ], 
     "language": "python", 
     "outputs": [], 
     "prompt_number": 113
    }, 
    {
     "cell_type": "code", 
     "collapsed": false, 
     "input": [
      "r = running_avg()", 
      "r.next()", 
      "r.send(10)"
     ], 
     "language": "python", 
     "outputs": [
      {
       "output_type": "pyout", 
       "prompt_number": 117, 
       "text": [
        "10.0"
       ]
      }
     ], 
     "prompt_number": 117
    }, 
    {
     "cell_type": "code", 
     "collapsed": false, 
     "input": [
      "r.send(5)"
     ], 
     "language": "python", 
     "outputs": [
      {
       "output_type": "pyout", 
       "prompt_number": 118, 
       "text": [
        "7.5"
       ]
      }
     ], 
     "prompt_number": 118
    }, 
    {
     "cell_type": "code", 
     "collapsed": false, 
     "input": [
      "r.send(0)"
     ], 
     "language": "python", 
     "outputs": [
      {
       "output_type": "pyout", 
       "prompt_number": 119, 
       "text": [
        "5.0"
       ]
      }
     ], 
     "prompt_number": 119
    }, 
    {
     "cell_type": "code", 
     "collapsed": false, 
     "input": [
      "r.send(0)"
     ], 
     "language": "python", 
     "outputs": [
      {
       "output_type": "pyout", 
       "prompt_number": 120, 
       "text": [
        "3.75"
       ]
      }
     ], 
     "prompt_number": 120
    }, 
    {
     "cell_type": "code", 
     "collapsed": true, 
     "input": [
      "def rock_paper_scissors():", 
      "    valid = 'rps'", 
      "    wins = 'rs', 'sp', 'pr'", 
      "    result = None", 
      "", 
      "    while True:", 
      "        chosen = [None, None]", 
      "        while None in chosen:", 
      "            player, play = yield result", 
      "            result = None", 
      "            if play in valid:", 
      "                chosen[player] = play", 
      "        ", 
      "        if chosen[0] + chosen[1] in wins:", 
      "            result = ('win', 0) + tuple(chosen)", 
      "        elif chosen[1] + chosen[0] in wins:", 
      "            result = ('win', 1) + tuple(chosen)", 
      "        else:", 
      "            result = ('tie', None) + tuple(chosen)"
     ], 
     "language": "python", 
     "outputs": [], 
     "prompt_number": 31
    }, 
    {
     "cell_type": "code", 
     "collapsed": false, 
     "input": [
      "rps = rock_paper_scissors()", 
      "rps.next()"
     ], 
     "language": "python", 
     "outputs": [], 
     "prompt_number": 32
    }, 
    {
     "cell_type": "code", 
     "collapsed": false, 
     "input": [
      "rps.send((0, 'r'))", 
      "rps.send((1, 'p'))"
     ], 
     "language": "python", 
     "outputs": [
      {
       "output_type": "pyout", 
       "prompt_number": 33, 
       "text": [
        "('win', 1, 'r', 'p')"
       ]
      }
     ], 
     "prompt_number": 33
    }, 
    {
     "cell_type": "code", 
     "collapsed": false, 
     "input": [
      "rps.send((1, 's'))", 
      "rps.send((1, 'p'))", 
      "rps.send((0, 's'))"
     ], 
     "language": "python", 
     "outputs": [
      {
       "output_type": "pyout", 
       "prompt_number": 34, 
       "text": [
        "('win', 0, 's', 'p')"
       ]
      }
     ], 
     "prompt_number": 34
    }, 
    {
     "cell_type": "code", 
     "collapsed": false, 
     "input": [
      "rps.send((0, 'r'))", 
      "rps.send((1, 'r'))"
     ], 
     "language": "python", 
     "outputs": [
      {
       "output_type": "pyout", 
       "prompt_number": 35, 
       "text": [
        "('tie', None, 'r', 'r')"
       ]
      }
     ], 
     "prompt_number": 35
    }, 
    {
     "cell_type": "markdown", 
     "source": [
      "### Generators with \"finally:\" and \"except:\""
     ]
    }, 
    {
     "cell_type": "code", 
     "collapsed": true, 
     "input": [
      "import os", 
      "import termios", 
      "import tty", 
      "", 
      "def cbreak_keys(fd):", 
      "    termios_settings = termios.tcgetattr(fd)", 
      "    tty.setcbreak(fd)", 
      "    try:", 
      "        while True:", 
      "            yield os.read(fd, 1)", 
      "    finally:", 
      "        termios.tcsetattr(fd, termios.TCSADRAIN, termios_settings)"
     ], 
     "language": "python", 
     "outputs": [], 
     "prompt_number": 129
    }, 
    {
     "cell_type": "code", 
     "collapsed": true, 
     "input": [
      "import sys", 
      "", 
      "ck = cbreak_keys(sys.stdin.fileno())", 
      "for key in ck:", 
      "    print repr(key)", 
      "    if key == 'q':", 
      "        ck.close()"
     ], 
     "language": "python", 
     "outputs": []
    }, 
    {
     "cell_type": "code", 
     "collapsed": true, 
     "input": [
      "class Timeout(Exception):", 
      "    pass", 
      "", 
      "class Disconnect(Exception):", 
      "    pass", 
      "", 
      "def game_machine(output):", 
      "    while True:", 
      "        opponent = None", 
      "        event, value = yield 'waiting'", 
      "        if event != 'join':", 
      "            continue", 
      "        game = rock_paper_scissors()", 
      "        game.next()", 
      "        wins = [0, 0]", 
      "        output(\"Welcome to the game\")", 
      "", 
      "        try:", 
      "            while True:", 
      "                event, value = yield 'play'", 
      "                if event != 'key':", 
      "                    continue", 
      "                    ", 
      "                player, key = value", 
      "                if player == 1:", 
      "                    yield 'disable timeout'", 
      "                result = game.send((player, key))", 
      "                if not result:", 
      "                    continue", 
      "                    ", 
      "                outcome, player, play0, play1 = result", 
      "                output(\"Player 0: %s, Player 1: %s\" % (play0, play1))", 
      "                if outcome == 'win':", 
      "                    wins[player] += 1", 
      "                    output(\"Player %d wins!\" % player)", 
      "                    output(\"Wins: %d - %d\" % wins)", 
      "                    ", 
      "                if all(count < 5 for count in wins):", 
      "                    yield 'new round'", 
      "                    continue", 
      "                output(\"Thank you for playing!\")", 
      "                yield 'disconnect'", 
      "                ", 
      "        except Disconnect:", 
      "            output(\"Opponent disconnected.\")", 
      "", 
      "        except Timeout:", 
      "            output(\"Timed out. Good-bye\")", 
      "            yield 'disconnect'"
     ], 
     "language": "python", 
     "outputs": []
    }
   ]
  }
 ]
}